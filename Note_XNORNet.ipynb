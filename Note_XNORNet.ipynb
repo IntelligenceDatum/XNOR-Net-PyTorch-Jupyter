{
  "nbformat": 4,
  "nbformat_minor": 0,
  "metadata": {
    "kernelspec": {
      "name": "python3",
      "display_name": "Python 3"
    },
    "language_info": {
      "codemirror_mode": {
        "name": "ipython",
        "version": 3
      },
      "file_extension": ".py",
      "mimetype": "text/x-python",
      "name": "python",
      "nbconvert_exporter": "python",
      "pygments_lexer": "ipython3",
      "version": "3.7.3"
    },
    "colab": {
      "name": "Note_XNORNet.ipynb",
      "version": "0.3.2",
      "provenance": [],
      "include_colab_link": true
    },
    "accelerator": "GPU"
  },
  "cells": [
    {
      "cell_type": "markdown",
      "metadata": {
        "id": "view-in-github",
        "colab_type": "text"
      },
      "source": [
        "<a href=\"https://colab.research.google.com/github/IntelligenceDatum/XNOR-Net-PyTorch-Jupyter/blob/master/Note_XNORNet.ipynb\" target=\"_parent\"><img src=\"https://colab.research.google.com/assets/colab-badge.svg\" alt=\"Open In Colab\"/></a>"
      ]
    },
    {
      "cell_type": "code",
      "metadata": {
        "id": "kgTf1SaPUO4r",
        "colab_type": "code",
        "colab": {}
      },
      "source": [
        "## XNORNet Modules\n",
        "import torch.nn.functional as F\n",
        "import math\n",
        "import torch\n",
        "import torch.nn as nn\n",
        "import torch.nn.parameter as Parameter\n",
        "\n",
        "\n",
        "class SignumActivation(torch.autograd.Function):\n",
        "    def forward(self, input):\n",
        "        self.save_for_backward(input)\n",
        "        size = input.size()\n",
        "        mean = torch.mean(input.abs(), 1, keepdim=True)\n",
        "        output = input.sign().add(0.01).sign()\n",
        "        return output, mean\n",
        "\n",
        "    def backward(self, grad_output, grad_output_mean): #STE Part\n",
        "        input, = self.saved_tensors\n",
        "        grad_input = grad_output.clone()\n",
        "        #grad_input=(2/torch.cosh(input))*(2/torch.cosh(input))*(grad_input)\n",
        "        grad_input[input.ge(1)] = 0 #great or equal\n",
        "        grad_input[input.le(-1)] = 0 #less or equal\n",
        "        return grad_input\n",
        "    \n",
        "    \n",
        "class BinarizeLinear(nn.Linear):\n",
        "    def __init__(self, *kargs, **kwargs):\n",
        "        super(BinarizeLinear, self).__init__(*kargs, **kwargs)\n",
        "\n",
        "    def forward(self, input):\n",
        "        #if input.size(1) != 784:\n",
        "        #    input.data=input.data.sign().add(0.01).sign()\n",
        "        if not hasattr(self.weight,'fp'):\n",
        "            self.weight.fp=self.weight.data.clone()\n",
        "        self.weight.data=self.weight.fp.sign().add(0.01).sign()\n",
        "        out = nn.functional.linear(input, self.weight)\n",
        "        if not self.bias is None:\n",
        "            self.bias.fp=self.bias.data.clone()\n",
        "            out += self.bias.view(1, -1).expand_as(out)\n",
        "        return out\n",
        "\n",
        "\n",
        "class BinConv2d(nn.Conv2d):\n",
        "    def __init__(self, *kargs, **kwargs):\n",
        "        super(BinConv2d, self).__init__(*kargs, **kwargs)\n",
        "\n",
        "    def forward(self, input):\n",
        "        #if input.size(1) != 3:\n",
        "        #    input.data = input.data.sign().add(0.01).sign()\n",
        "        if not hasattr(self.weight,'fp'):\n",
        "            self.weight.fp=self.weight.data.clone()\n",
        "        self.weight.data=self.weight.fp.sign().add(0.01).sign()\n",
        "        out = nn.functional.conv2d(input, self.weight, None, self.stride,\n",
        "                                   self.padding, self.dilation, self.groups)\n",
        "        if not self.bias is None:\n",
        "            self.bias.fp=self.bias.data.clone()\n",
        "            out += self.bias.view(1, -1, 1, 1).expand_as(out)\n",
        "        return out\n",
        "      \n",
        "\n",
        "class Unit_BinarizedConvolution2D(nn.Module):\n",
        "    def __init__(self, input_channels, output_channels,\n",
        "            kernel_size=-1, stride=-1, padding=-1, dropout=0, ActivationLayer=1, BNaffine=False):\n",
        "        super(Unit_BinarizedConvolution2D, self).__init__()\n",
        "        self.layer_type = 'BinConv2d'\n",
        "        self.kernel_size = kernel_size\n",
        "        self.stride = stride\n",
        "        self.padding = padding\n",
        "        self.dropout_ratio = dropout\n",
        "        if dropout!=0:\n",
        "            self.dropout = nn.Dropout2d(dropout)\n",
        "        self.ActivationLayer = ActivationLayer\n",
        "        self.bn = nn.BatchNorm2d(output_channels, eps=1e-7, momentum=0.1, affine=BNaffine)\n",
        "        if BNaffine==True:\n",
        "            self.bn.weight.data = self.bn.weight.data.zero_().add(1.0)\n",
        "        self.conv=BinConv2d(input_channels, output_channels,\n",
        "                kernel_size=kernel_size, stride=stride, padding=padding)   #bias=False\n",
        "    def forward(self, x):\n",
        "        x = self.conv(x)\n",
        "        if self.dropout_ratio!=0:\n",
        "             x = self.dropout(x)\n",
        "        x = self.bn(x)\n",
        "        if self.ActivationLayer==1:\n",
        "             x, mean = SignumActivation()(x)\n",
        "        return x\n",
        "    \n",
        "\n",
        "class SignumActivationLayer(nn.Module):\n",
        "    def forward(self, x):\n",
        "        x, mean = SignumActivation()(x)\n",
        "        return x\n",
        "    \n",
        "    "
      ],
      "execution_count": 0,
      "outputs": []
    },
    {
      "cell_type": "code",
      "metadata": {
        "id": "dPsedCLlUO4w",
        "colab_type": "code",
        "colab": {}
      },
      "source": [
        "##Network Architecture\n",
        "class Net(nn.Module):\n",
        "    def __init__(self):\n",
        "        super(Net, self).__init__()\n",
        "        self.xnor = nn.Sequential(\n",
        "            Unit_BinarizedConvolution2D(3, 64, kernel_size=3, stride=1, padding=1, ActivationLayer=1,BNaffine=False),\n",
        "            Unit_BinarizedConvolution2D(64, 64, kernel_size=3, stride=1, padding=1, ActivationLayer=1,BNaffine=False),\n",
        "            nn.MaxPool2d(kernel_size=2, stride=2, padding=0),\n",
        "\n",
        "            Unit_BinarizedConvolution2D(64, 128, kernel_size=3, stride=1, padding=1, ActivationLayer=1,BNaffine=False),\n",
        "            Unit_BinarizedConvolution2D(128, 128, kernel_size=3, stride=1, padding=1, ActivationLayer=1,BNaffine=False),\n",
        "            nn.MaxPool2d(kernel_size=2, stride=2, padding=0),\n",
        "\n",
        "            Unit_BinarizedConvolution2D(128, 256, kernel_size=3, stride=1, padding=1, ActivationLayer=1,BNaffine=False),\n",
        "            Unit_BinarizedConvolution2D(256, 256, kernel_size=3, stride=1, padding=1, ActivationLayer=1,BNaffine=False),\n",
        "            nn.MaxPool2d(kernel_size=2, stride=2, padding=0),\n",
        "            nn.AvgPool2d(kernel_size=4, stride=2, padding=0),\n",
        "            SignumActivationLayer()\n",
        "        )\n",
        "        \n",
        "        self.classifier = nn.Sequential(\n",
        "            BinarizeLinear(256, 10, bias=False),\n",
        "            nn.BatchNorm1d(10, affine=False),\n",
        "            nn.Softmax(dim=1)\n",
        "        )\n",
        "        \n",
        "        \n",
        "    def forward(self, x):\n",
        "        x = self.xnor(x)\n",
        "        #x = x.view(x.size(0), 256)\n",
        "        x = x.view(x.size(0), -1)\n",
        "        #x = x.view(-1, 256)\n",
        "        x = self.classifier(x)\n",
        "        return x\n",
        "      \n",
        "      "
      ],
      "execution_count": 0,
      "outputs": []
    },
    {
      "cell_type": "code",
      "metadata": {
        "id": "Q6DHtHMsUO4y",
        "colab_type": "code",
        "colab": {}
      },
      "source": [
        "#Training & Main\n",
        "import time\n",
        "import random\n",
        "import matplotlib.pyplot as plt\n",
        "import torch.utils.data as D\n",
        "import torch.optim as optim\n",
        "from torch.autograd import Variable\n",
        "from torchvision import datasets,transforms\n",
        "import argparse\n",
        "\n"
      ],
      "execution_count": 0,
      "outputs": []
    },
    {
      "cell_type": "code",
      "metadata": {
        "id": "w9HXtxDHUO40",
        "colab_type": "code",
        "colab": {}
      },
      "source": [
        "def timeSince(since):\n",
        "    now = time.time()\n",
        "    s = now - since\n",
        "    #m = math.floor(s / 60)\n",
        "    #s -= m * 60\n",
        "    return s\n",
        "\n"
      ],
      "execution_count": 0,
      "outputs": []
    },
    {
      "cell_type": "code",
      "metadata": {
        "id": "jYQ18G-rUO43",
        "colab_type": "code",
        "colab": {}
      },
      "source": [
        "class XNORNet_Training():\n",
        "    #def __init__(self,model):\n",
        "  \n",
        "    def restore(model):\n",
        "        for p in list(model.parameters()):\n",
        "                if hasattr(p,'fp'):\n",
        "                    p.data.copy_(p.fp) \n",
        "    \n",
        "    def clampParams(model):\n",
        "        for p in list(model.parameters()):\n",
        "                if hasattr(p,'fp'):\n",
        "                    p.fp.copy_(p.data.clamp_(-1,1))\n",
        "                \n",
        "    def XNORIZE(model):\n",
        "        for p in list(model.parameters()):\n",
        "                if hasattr(p,'fp'):\n",
        "                    p.data.copy_(p.fp.sign().add(0.01).sign())\n",
        "                \n"
      ],
      "execution_count": 0,
      "outputs": []
    },
    {
      "cell_type": "code",
      "metadata": {
        "id": "oOINt-3JudCE",
        "colab_type": "code",
        "colab": {}
      },
      "source": [
        "def train(epoch):\n",
        "        model.train()\n",
        "        total_loss=0\n",
        "        \n",
        "        for batch_idx, (data, target) in enumerate(train_loader):\n",
        "            optimizer.zero_grad()\n",
        "            data, target = data.cuda(), target.cuda()\n",
        "            data, target = Variable(data), Variable(target)\n",
        "            optimizer.zero_grad()\n",
        "            output = model(data)\n",
        "            loss = criterion(output, target)\n",
        "            loss.backward() \n",
        "            #torch.nn.utils.clip_grad_value_(model.parameters(), clip_value=1) #for test\n",
        "            XNORNet_Training.restore(model)\n",
        "            optimizer.step()\n",
        "            XNORNet_Training.clampParams(model)\n",
        "            XNORNet_Training.XNORIZE(model)\n",
        "            total_loss +=loss.item()\n",
        "\n",
        "        total_loss /= len(train_loader)\n",
        "        print('Train Epoch: {} [{}/{} ({:.0f}%)]'\n",
        "              .format(epoch, batch_idx * len(data), len(train_loader.dataset),\n",
        "                      100. * batch_idx / len(train_loader)))\n",
        "        print('Train Loss: {}'.format(total_loss ))\n",
        "\n",
        "\n",
        "def validate():\n",
        "    global best_acc\n",
        "    model.eval()\n",
        "    test_total_loss = 0\n",
        "    correct = 0\n",
        "    total = 0\n",
        "\n",
        "    for batch_idx, (inputs, targets) in enumerate(validate_loader):\n",
        "        inputs, targets = inputs.cuda(), targets.cuda()\n",
        "        outputs = model(inputs)\n",
        "        loss = criterion(outputs, targets)\n",
        "        test_total_loss += loss.item()\n",
        "        _, predicted = outputs.max(1)\n",
        "        total += targets.size(0)\n",
        "        correct += predicted.eq(targets).sum().item()\n",
        "\n",
        "    acc = 100. * correct / total #len(validate_loader)\n",
        "\n",
        "    if acc > best_acc: #args.best_acc\n",
        "        best_acc = acc\n",
        "        #save_state(model, best_acc)\n",
        "    test_total_loss /= len(validate_loader) \n",
        "\n",
        "    accur.append( 100.*correct/total)\n",
        "    print('Validation Loss:',test_total_loss)\n",
        "    print('Validation Accuracy:',acc)\n",
        "\n",
        "    for param_group in optimizer.param_groups:\n",
        "        print('Current Learning Rate:', param_group['lr'])\n",
        "\n",
        "    print('Best Accuracy:: ',best_acc)\n",
        "    print('--------------------------------------------')"
      ],
      "execution_count": 0,
      "outputs": []
    },
    {
      "cell_type": "code",
      "metadata": {
        "id": "CP6iJfM7UO47",
        "colab_type": "code",
        "colab": {
          "base_uri": "https://localhost:8080/",
          "height": 34
        },
        "outputId": "1b25ab92-6990-435e-bc97-5a88b8667680"
      },
      "source": [
        "set_batch_size=100\n",
        "\n",
        "#torch.cuda.manual_seed(1)\n",
        "torch.cuda.seed()\n",
        "    #train_loader\n",
        "train_loader = D.DataLoader(datasets.CIFAR10('./data', train=True, download=True,\n",
        "                                             transform=transforms.Compose([transforms.RandomHorizontalFlip(),\n",
        "                                                                           transforms.RandomAffine(degrees=0, translate=(.1,.1), scale=None, shear=None, resample=False, fillcolor=0),\n",
        "                                                                           transforms.ToTensor()\n",
        "                                                                          ]))\n",
        "                            ,batch_size=set_batch_size, shuffle=True) #500->args.test_batch_size\n",
        "                                                \n",
        "    \n",
        "    #test_loaer\n",
        "validate_loader = D.DataLoader(datasets.CIFAR10('./data', train=False, \n",
        "                                            transform=transforms.Compose([transforms.ToTensor() #transforms.ToPILImage()\n",
        "                                                                         ]))\n",
        "                           ,batch_size=set_batch_size, shuffle=False) "
      ],
      "execution_count": 17,
      "outputs": [
        {
          "output_type": "stream",
          "text": [
            "Files already downloaded and verified\n"
          ],
          "name": "stdout"
        }
      ]
    },
    {
      "cell_type": "code",
      "metadata": {
        "id": "OJKZIW8qUO4-",
        "colab_type": "code",
        "colab": {}
      },
      "source": [
        "model=Net()\n",
        "model.cuda() #to GPU\n",
        "\n",
        "criterion = nn.CrossEntropyLoss()\n",
        "#optimizer = optim.Adam(model.parameters(),lr=0.0001) \n",
        "optimizer = optim.SGD(model.parameters(), lr=0.01,momentum=0.8) \n",
        "\n",
        "#lambda1 = lambda epoch: 0.95 ** epoch\n",
        "#scheduler = optim.lr_scheduler.LambdaLR(optimizer, lr_lambda=lambda1)\n",
        "\n",
        "scheduler= optim.lr_scheduler.MultiStepLR(optimizer, \n",
        "                                          milestones=[300,400,500,550,600,620,640,660,680,700], \n",
        "                                          gamma=0.1, last_epoch=-1)\n",
        "\n",
        "classes = ('plane', 'car', 'bird', 'cat', 'deer', 'dog', 'frog', 'horse', 'ship', 'truck') #cifar10\n",
        "start = time.time()\n",
        "time_graph=[]\n",
        "e=[]\n",
        "accur=[]\n",
        "tlos=[]\n",
        "best_acc=0\n",
        "\n"
      ],
      "execution_count": 0,
      "outputs": []
    },
    {
      "cell_type": "code",
      "metadata": {
        "id": "nCFhaz4cUO5A",
        "colab_type": "code",
        "colab": {
          "base_uri": "https://localhost:8080/",
          "height": 494
        },
        "outputId": "96a96830-8005-4684-a78f-477d9f1ed468"
      },
      "source": [
        "last_epoch=720\n",
        "\n",
        "for epoch in range(1, last_epoch): \n",
        "    e.append(epoch)\n",
        "    train(epoch)   \n",
        "    seco=timeSince(start)\n",
        "    time_graph.append(seco)\n",
        "    validate()\n",
        "    scheduler.step()\n",
        "\n",
        "print(time_graph)\n",
        "plt.title('Training for CIFAR10 with epoch', fontsize=20)\n",
        "plt.ylabel('time (s)')\n",
        "plt.plot(e,time_graph)\n",
        "plt.show()\n",
        "plt.title('Accuracy With epoch', fontsize=20)\n",
        "plt.plot(e,accur)\n",
        "plt.show()\n",
        "plt.title('Test loss With epoch', fontsize=20)\n",
        "plt.plot(tlos)\n",
        "plt.show()"
      ],
      "execution_count": 19,
      "outputs": [
        {
          "output_type": "stream",
          "text": [
            "Train Epoch: 1 [49900/50000 (100%)]\n",
            "Train Loss: 2.2922520990371704\n",
            "Validation Loss: 2.2749037623405455\n",
            "Validation Accuracy: 14.79\n",
            "Current Learning Rate: 0.01\n",
            "Best Accuracy::  14.79\n",
            "--------------------------------------------\n"
          ],
          "name": "stdout"
        },
        {
          "output_type": "error",
          "ename": "KeyboardInterrupt",
          "evalue": "ignored",
          "traceback": [
            "\u001b[0;31m---------------------------------------------------------------------------\u001b[0m",
            "\u001b[0;31mKeyboardInterrupt\u001b[0m                         Traceback (most recent call last)",
            "\u001b[0;32m<ipython-input-19-92d068342bbb>\u001b[0m in \u001b[0;36m<module>\u001b[0;34m()\u001b[0m\n\u001b[1;32m      3\u001b[0m \u001b[0;32mfor\u001b[0m \u001b[0mepoch\u001b[0m \u001b[0;32min\u001b[0m \u001b[0mrange\u001b[0m\u001b[0;34m(\u001b[0m\u001b[0;36m1\u001b[0m\u001b[0;34m,\u001b[0m \u001b[0mlast_epoch\u001b[0m\u001b[0;34m)\u001b[0m\u001b[0;34m:\u001b[0m\u001b[0;34m\u001b[0m\u001b[0;34m\u001b[0m\u001b[0m\n\u001b[1;32m      4\u001b[0m     \u001b[0me\u001b[0m\u001b[0;34m.\u001b[0m\u001b[0mappend\u001b[0m\u001b[0;34m(\u001b[0m\u001b[0mepoch\u001b[0m\u001b[0;34m)\u001b[0m\u001b[0;34m\u001b[0m\u001b[0;34m\u001b[0m\u001b[0m\n\u001b[0;32m----> 5\u001b[0;31m     \u001b[0mtrain\u001b[0m\u001b[0;34m(\u001b[0m\u001b[0mepoch\u001b[0m\u001b[0;34m)\u001b[0m\u001b[0;34m\u001b[0m\u001b[0;34m\u001b[0m\u001b[0m\n\u001b[0m\u001b[1;32m      6\u001b[0m     \u001b[0mseco\u001b[0m\u001b[0;34m=\u001b[0m\u001b[0mtimeSince\u001b[0m\u001b[0;34m(\u001b[0m\u001b[0mstart\u001b[0m\u001b[0;34m)\u001b[0m\u001b[0;34m\u001b[0m\u001b[0;34m\u001b[0m\u001b[0m\n\u001b[1;32m      7\u001b[0m     \u001b[0mtime_graph\u001b[0m\u001b[0;34m.\u001b[0m\u001b[0mappend\u001b[0m\u001b[0;34m(\u001b[0m\u001b[0mseco\u001b[0m\u001b[0;34m)\u001b[0m\u001b[0;34m\u001b[0m\u001b[0;34m\u001b[0m\u001b[0m\n",
            "\u001b[0;32m<ipython-input-16-53675f6fc602>\u001b[0m in \u001b[0;36mtrain\u001b[0;34m(epoch)\u001b[0m\n\u001b[1;32m     10\u001b[0m             \u001b[0moutput\u001b[0m \u001b[0;34m=\u001b[0m \u001b[0mmodel\u001b[0m\u001b[0;34m(\u001b[0m\u001b[0mdata\u001b[0m\u001b[0;34m)\u001b[0m\u001b[0;34m\u001b[0m\u001b[0;34m\u001b[0m\u001b[0m\n\u001b[1;32m     11\u001b[0m             \u001b[0mloss\u001b[0m \u001b[0;34m=\u001b[0m \u001b[0mcriterion\u001b[0m\u001b[0;34m(\u001b[0m\u001b[0moutput\u001b[0m\u001b[0;34m,\u001b[0m \u001b[0mtarget\u001b[0m\u001b[0;34m)\u001b[0m\u001b[0;34m\u001b[0m\u001b[0;34m\u001b[0m\u001b[0m\n\u001b[0;32m---> 12\u001b[0;31m             \u001b[0mloss\u001b[0m\u001b[0;34m.\u001b[0m\u001b[0mbackward\u001b[0m\u001b[0;34m(\u001b[0m\u001b[0;34m)\u001b[0m \u001b[0;31m#how can i modify this?\u001b[0m\u001b[0;34m\u001b[0m\u001b[0;34m\u001b[0m\u001b[0m\n\u001b[0m\u001b[1;32m     13\u001b[0m \u001b[0;34m\u001b[0m\u001b[0m\n\u001b[1;32m     14\u001b[0m             \u001b[0;31m#torch.nn.utils.clip_grad_value_(model.parameters(), clip_value=1) #for test\u001b[0m\u001b[0;34m\u001b[0m\u001b[0;34m\u001b[0m\u001b[0;34m\u001b[0m\u001b[0m\n",
            "\u001b[0;32m/usr/local/lib/python3.6/dist-packages/torch/tensor.py\u001b[0m in \u001b[0;36mbackward\u001b[0;34m(self, gradient, retain_graph, create_graph)\u001b[0m\n\u001b[1;32m    105\u001b[0m                 \u001b[0mproducts\u001b[0m\u001b[0;34m.\u001b[0m \u001b[0mDefaults\u001b[0m \u001b[0mto\u001b[0m\u001b[0;31m \u001b[0m\u001b[0;31m`\u001b[0m\u001b[0;31m`\u001b[0m\u001b[0;32mFalse\u001b[0m\u001b[0;31m`\u001b[0m\u001b[0;31m`\u001b[0m\u001b[0;34m.\u001b[0m\u001b[0;34m\u001b[0m\u001b[0;34m\u001b[0m\u001b[0m\n\u001b[1;32m    106\u001b[0m         \"\"\"\n\u001b[0;32m--> 107\u001b[0;31m         \u001b[0mtorch\u001b[0m\u001b[0;34m.\u001b[0m\u001b[0mautograd\u001b[0m\u001b[0;34m.\u001b[0m\u001b[0mbackward\u001b[0m\u001b[0;34m(\u001b[0m\u001b[0mself\u001b[0m\u001b[0;34m,\u001b[0m \u001b[0mgradient\u001b[0m\u001b[0;34m,\u001b[0m \u001b[0mretain_graph\u001b[0m\u001b[0;34m,\u001b[0m \u001b[0mcreate_graph\u001b[0m\u001b[0;34m)\u001b[0m\u001b[0;34m\u001b[0m\u001b[0;34m\u001b[0m\u001b[0m\n\u001b[0m\u001b[1;32m    108\u001b[0m \u001b[0;34m\u001b[0m\u001b[0m\n\u001b[1;32m    109\u001b[0m     \u001b[0;32mdef\u001b[0m \u001b[0mregister_hook\u001b[0m\u001b[0;34m(\u001b[0m\u001b[0mself\u001b[0m\u001b[0;34m,\u001b[0m \u001b[0mhook\u001b[0m\u001b[0;34m)\u001b[0m\u001b[0;34m:\u001b[0m\u001b[0;34m\u001b[0m\u001b[0;34m\u001b[0m\u001b[0m\n",
            "\u001b[0;32m/usr/local/lib/python3.6/dist-packages/torch/autograd/__init__.py\u001b[0m in \u001b[0;36mbackward\u001b[0;34m(tensors, grad_tensors, retain_graph, create_graph, grad_variables)\u001b[0m\n\u001b[1;32m     91\u001b[0m     Variable._execution_engine.run_backward(\n\u001b[1;32m     92\u001b[0m         \u001b[0mtensors\u001b[0m\u001b[0;34m,\u001b[0m \u001b[0mgrad_tensors\u001b[0m\u001b[0;34m,\u001b[0m \u001b[0mretain_graph\u001b[0m\u001b[0;34m,\u001b[0m \u001b[0mcreate_graph\u001b[0m\u001b[0;34m,\u001b[0m\u001b[0;34m\u001b[0m\u001b[0;34m\u001b[0m\u001b[0m\n\u001b[0;32m---> 93\u001b[0;31m         allow_unreachable=True)  # allow_unreachable flag\n\u001b[0m\u001b[1;32m     94\u001b[0m \u001b[0;34m\u001b[0m\u001b[0m\n\u001b[1;32m     95\u001b[0m \u001b[0;34m\u001b[0m\u001b[0m\n",
            "\u001b[0;31mKeyboardInterrupt\u001b[0m: "
          ]
        }
      ]
    },
    {
      "cell_type": "code",
      "metadata": {
        "id": "tobmG5P7UO5D",
        "colab_type": "code",
        "colab": {}
      },
      "source": [
        ""
      ],
      "execution_count": 0,
      "outputs": []
    }
  ]
}